{
 "cells": [
  {
   "cell_type": "markdown",
   "id": "24967421",
   "metadata": {},
   "source": [
    "# Tesorflow Summary\n",
    "\n",
    "---"
   ]
  },
  {
   "cell_type": "markdown",
   "id": "92ded1dd",
   "metadata": {},
   "source": [
    "[tensorflow site](https://www.tensorflow.org/datasets/catalog/abstract_reasoning)"
   ]
  },
  {
   "cell_type": "markdown",
   "id": "35cfedb3",
   "metadata": {},
   "source": [
    "---\n",
    "\n",
    "### 용어정리\n",
    "\n",
    "\n",
    "\n",
    "1. epoch : 전체 데이터가 모두 학습한 단위 <br>\n",
    "\n",
    "    ex) 60,000개의 데이터가 모두 학습되었다면 -> 1epoch <br>30epoch = 60,000개의 데이터에 대하여 30번 학습하겠다는 의미\n",
    "\n",
    "2. loss : 정답 값과의 오차\n",
    "    (loss는 낮을 수록 좋음)\n",
    "\n",
    "3. Accuracy(acc) : 정확도\n",
    "\n",
    "4. supervised Learning(지도학습) \n",
    "\n",
    "- 입력 데이터&출력데이터가 존재 (<-> 비지도학습은 입력 데이터만 존재함)\n",
    "- 분류와 회귀로 나뉨.\n",
    "- 회귀 : 연속된 수치를 가지고 논다. \n",
    "\n",
    "==tesorflow문제에서는 1,5번 문제가 회귀, 2,3,4 문제가 분류==\n",
    "\n",
    "5. input/Output, Features/Labels\n",
    "\n",
    "- 여기서는 인풋과 아웃풋 데이터라고 얘기 안할 것이다!!\n",
    "- 인풋데이터 : x, Features <br>\n",
    "  아웃풋 데이터 : y, Labels\n",
    "  \n",
    "  \n",
    "6. batch / batch size\n",
    "\n",
    "- 보통 학습을 할 때, node에 있는 weight들을 업데이트 시키면서 학습을 한다. \n",
    "- 이때 기준은, 1 epoch이 끝날때, 되는게 아니라 batch가 끝날때 시행된다고 볼 수 있다. \n",
    "**bath란? 1개의 epoch에서 여러 개의 샘플을 나누어 학습하는 단위이다.**\n",
    "\n",
    "bathsize는 몇개로 묶을지, batch 묶은개 몇개?\n",
    "\n",
    "1000개의 이미지를 학습하는 경우,\n",
    "\n",
    "- batch_size = 10 => (1000개의 이미지)/(batch_size=10) = 총 100개의 batch\n",
    "- batch_size = 20 => (1000개의 이미지)/(batch_size=20) = 총 50개의 batch\n",
    "\n",
    "** 따라서 batch size를 어떻게 설정하느냐에 따라서 가중치의 횟수를 정한다.**\n",
    "\n",
    "\n",
    "7. ImageGenerator\n",
    "\n",
    "- 이미지 변형을 할 수 있다. \n",
    "\n",
    "\n",
    "8. convolution Network Nerual (합성곱신경망)\n",
    "\n",
    "- Dense layer는 연산을 담당하는 층이자, 노드들이 모두 같이 연결되어 있는 완전 연결층이므로, 연산시간들이 너무 많아 큰 단점.<br>\n",
    "  반면에 cnn은 지역특성으로 부분만을 연결하여 계산하는 효율적이다.\n",
    "- CNN은 특성추출과 연산담당 하는 크게 두분류의 층을 가지고 있다. 기본적으로 특성을 추출하고 연산을 하는게 상식이기에 먼저 특성층을 쌓는다. \n",
    "- 좋은 풍경을 카메라로 담아 사진을 뽑는 것으로 비유를 들자면, <br>\n",
    "    풍경 : 원본 / 카메라 : cnn / 사진 : feature map \n",
    "- 보통 원본 사이즈에서 가로 세로 모두 -2를 한 값들이 feature map의 크기가 된다. ex) 150x150 => 148x148\n",
    "- 아래사진 참고도 할 것.\n",
    "- Conv2D(64, (3,3), activation='relu', input_shape=(150,150,3)) <br>\n",
    "  여기서 64는 featuremap의 갯수를 의미하고 (3,3)은 필터의 갯수행렬을 말한다. input_shape=(150,150,3) : 여기서 3은 RGB를 말하며, 컬러사진이구나라고 인식하면됨 \n",
    "- Conv2D층이 끝나면 Flatten()을 중간에 넣어 Dense를 위해 1D로 바꿔줘야 한다. 그리고 dropout(0.5)을 설정하는데 과대적합을 방지하기 위함이며, 학습할때만 사용하고 예측시에는 적용이 되지 않는다. \n",
    "- maxpooling layer도 아래 사진 참고 \n",
    "\n",
    "\n",
    "----"
   ]
  },
  {
   "cell_type": "markdown",
   "id": "866103ec",
   "metadata": {},
   "source": [
    "<img src='cnn.PNG' style='width:300px, height:100px;'> "
   ]
  },
  {
   "cell_type": "markdown",
   "id": "7654b93d",
   "metadata": {},
   "source": [
    "<img src='maxpooling.PNG' style='width:300px, height:100px;'> "
   ]
  },
  {
   "cell_type": "markdown",
   "id": "918db497",
   "metadata": {},
   "source": [
    "---\n",
    "\n",
    "### 딥러닝 학습 실행 순서\n",
    "\n",
    "\n",
    "    1) import 필요한 라이브러리를 설치한다. \n",
    "    2) 데이터 전처리\n",
    "    3) 모델링(model) : 모델을 정의한다. \n",
    "    4) 컴파일(complie) : 모델을 생성한다. \n",
    "    5) 학습(fit) : 모델을 학습시킨다. \n",
    "    \n",
    "#predict : 구글 채점기계가 할 것이다. \n",
    "\n",
    "---"
   ]
  },
  {
   "cell_type": "markdown",
   "id": "07b81a54",
   "metadata": {},
   "source": [
    "### 꿀팁\n",
    "\n",
    "- 선형함수와 오차\n",
    "    - 우리는 실제 데이터를 예측하는 모델을 만들 것이다. \n",
    "    - 나의 예측 모델 Y=Wx+b (W:WEIGHT, b:bias, Y=예측값)\n",
    "    - MAE : Mean Absolute Error(오차 절대값 평균)\n",
    "    - MSE : Mean Absolute Error(오차 제곱 평균)\n",
    "    \n",
    "---\n",
    "\n",
    "- Dense Layer (Fully Connected Layer)\n",
    "  - 정의 : 노드가 모두 완전하게 연결되어 있는 형태를 말한다. \n",
    "  - 논문에서는 'FC'로 표현하기도 한다. \n",
    "  - hidden layer 에 표시된 동그라미인 노드들은 모두 가중치(weight)를 가지고 있다. \n",
    "  - 중요!! : input_layer에는 input shape를 지정해줘야만 데이터가 어떤 모양으로 들어오는지 알 수 있기 때문에 꼭 입력해야함.\n",
    "    \n",
    "---"
   ]
  },
  {
   "cell_type": "markdown",
   "id": "a170e72f",
   "metadata": {},
   "source": [
    "---\n",
    "### 시험문제 유형 설명\n",
    "\n",
    "\n",
    "문제 2 - 이미지 문제 2문제 출제됨\n",
    "\n",
    "문제 3 - Type B (cats vs dogs)\n",
    "\n",
    "- type A는 이미지 데이터를 활용한 이미지 분류 문제\n",
    "- type B는 tfds를 활용한 이미지 분류 문제\n",
    "\n",
    "문제 4 - Text 분류 (sarcasm dataset을 이용할꺼임) \n",
    "- 자연어 처리 문제\n",
    "- 신문기사가 비꼬는 어투인지 아닌지에 대한 판별기(분류기)를 만들것이다. \n",
    "\n",
    "문제5 - Sequences (sunspots dataset을 이용할꺼임)\n",
    "\n",
    "- sunspots은 태양의 흑점인데 주기를 측정하는 regression문제이다. \n",
    "- 건들지 말라는 문제는 건드리지말 것 \n",
    "\n",
    "---"
   ]
  },
  {
   "cell_type": "code",
   "execution_count": null,
   "id": "bc4a63ab",
   "metadata": {},
   "outputs": [],
   "source": []
  },
  {
   "cell_type": "code",
   "execution_count": null,
   "id": "bc08524b",
   "metadata": {},
   "outputs": [],
   "source": []
  },
  {
   "cell_type": "code",
   "execution_count": null,
   "id": "300dbf22",
   "metadata": {},
   "outputs": [],
   "source": []
  },
  {
   "cell_type": "code",
   "execution_count": null,
   "id": "9f384269",
   "metadata": {},
   "outputs": [],
   "source": []
  },
  {
   "cell_type": "code",
   "execution_count": null,
   "id": "7f26912f",
   "metadata": {},
   "outputs": [],
   "source": []
  },
  {
   "cell_type": "code",
   "execution_count": null,
   "id": "043f4507",
   "metadata": {},
   "outputs": [],
   "source": []
  }
 ],
 "metadata": {
  "kernelspec": {
   "display_name": "Python 3",
   "language": "python",
   "name": "python3"
  },
  "language_info": {
   "codemirror_mode": {
    "name": "ipython",
    "version": 3
   },
   "file_extension": ".py",
   "mimetype": "text/x-python",
   "name": "python",
   "nbconvert_exporter": "python",
   "pygments_lexer": "ipython3",
   "version": "3.8.8"
  },
  "toc": {
   "base_numbering": 1,
   "nav_menu": {},
   "number_sections": false,
   "sideBar": true,
   "skip_h1_title": false,
   "title_cell": "Table of Contents",
   "title_sidebar": "Contents",
   "toc_cell": false,
   "toc_position": {
    "height": "calc(100% - 180px)",
    "left": "10px",
    "top": "150px",
    "width": "182.825px"
   },
   "toc_section_display": true,
   "toc_window_display": true
  }
 },
 "nbformat": 4,
 "nbformat_minor": 5
}
